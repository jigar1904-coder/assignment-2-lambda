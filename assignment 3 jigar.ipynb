{
 "cells": [
  {
   "cell_type": "markdown",
   "id": "ef7636fa-4e36-4494-acf7-f9d000512720",
   "metadata": {},
   "source": [
    "**(1)** Write a lambda expression to get the product of two numbers.\n",
    "\n",
    "Run test for expression(5,6)\n",
    "\n",
    "Output: 30"
   ]
  },
  {
   "cell_type": "code",
   "execution_count": 1,
   "id": "a25b39a8-84dc-4fb3-b6be-960d5c50699e",
   "metadata": {},
   "outputs": [
    {
     "name": "stdout",
     "output_type": "stream",
     "text": [
      "30\n"
     ]
    }
   ],
   "source": [
    "product = lambda x, y: x * y\n",
    "print(product(5, 6))"
   ]
  },
  {
   "cell_type": "markdown",
   "id": "b3c30002-22f9-41e8-a615-eb7716edd07e",
   "metadata": {},
   "source": [
    "**(2)** Write a function to get the area of a circle from the radius.\n",
    "\n",
    "Hint: remember to import the right modul for being able to calculte the area of the circle.\n",
    "\n",
    "Run test for function(10)\n",
    "\n",
    "Output: 314.1592653589793"
   ]
  },
  {
   "cell_type": "code",
   "execution_count": 2,
   "id": "a3ce2416-a133-4047-a688-9cfa35105842",
   "metadata": {},
   "outputs": [
    {
     "name": "stdout",
     "output_type": "stream",
     "text": [
      "314.1592653589793\n"
     ]
    }
   ],
   "source": [
    "import math\n",
    "\n",
    "def circle_area(radius):\n",
    "    return math.pi * (radius ** 2)\n",
    "\n",
    "# Test the function\n",
    "print(circle_area(10))"
   ]
  },
  {
   "cell_type": "markdown",
   "id": "132eff84-22fa-4979-b3f0-f9fd3d8fc405",
   "metadata": {},
   "source": [
    "**(3)** Build a simple calculator which can: add, subtract, multiply, divide.\n",
    "\n",
    "Hint: solve by writing a function that takes as argument two numbers and the operation and returns the desired output.\n",
    "\n",
    "Run test for function(2,5,'d')\n",
    "\n",
    "Output: 0.4"
   ]
  },
  {
   "cell_type": "code",
   "execution_count": 3,
   "id": "75b85999-36f3-49e5-b941-96c7d8299b1f",
   "metadata": {},
   "outputs": [
    {
     "name": "stdout",
     "output_type": "stream",
     "text": [
      "0.4\n"
     ]
    }
   ],
   "source": [
    "def calculator(num1, num2, operation):\n",
    "    if operation == 'a':  # add\n",
    "        return num1 + num2\n",
    "    elif operation == 's':  # subtract\n",
    "        return num1 - num2\n",
    "    elif operation == 'm':  # multiply\n",
    "        return num1 * num2\n",
    "    elif operation == 'd':  # divide\n",
    "        if num2 != 0:\n",
    "            return num1 / num2\n",
    "        else:\n",
    "            return \"Error: Division by zero\"\n",
    "    else:\n",
    "        return \"Error: Invalid operation\"\n",
    "\n",
    "# Test the function\n",
    "print(calculator(2, 5, 'd'))"
   ]
  },
  {
   "cell_type": "markdown",
   "id": "39f24f6e-7d94-4061-b81c-8c6240d3d936",
   "metadata": {},
   "source": [
    "**(4)** Define a class named Rectangle which can be constructed by a length and width.\n",
    "\n",
    "The Rectangle class has a method which can compute the area.\n",
    "\n",
    "Run test for\n",
    "\n",
    "r = Rectangle(5,10)\n",
    "\n",
    "r.area()\n",
    "\n",
    "Output: 50"
   ]
  },
  {
   "cell_type": "code",
   "execution_count": 7,
   "id": "cbf26fd2-be0e-4f53-8d23-d3e3322f3b99",
   "metadata": {},
   "outputs": [
    {
     "name": "stdout",
     "output_type": "stream",
     "text": [
      "50\n"
     ]
    }
   ],
   "source": [
    "\n",
    "class Rectangle:\n",
    "    def __init__(self, length, width):\n",
    "        self.length = length\n",
    "        self.width = width\n",
    "\n",
    "    def area(self):\n",
    "        return self.length * self.width\n",
    "\n",
    "r = Rectangle(5, 10)\n",
    "print(r.area())\n"
   ]
  },
  {
   "cell_type": "markdown",
   "id": "36f8c11f-d37a-4add-bf9c-f45915967eea",
   "metadata": {},
   "source": [
    "**(5)** Define a class named Shape and its subclass Square.\n",
    "\n",
    "Shape objects can be consrtucted by name and length has an area function wich return 0\n",
    "\n",
    "Square subclass has an init function which take a length and name as argument and has an area method and a describe method what prints the name of the Shape.\n",
    "\n",
    "Print the area from Square class.\n",
    "\n",
    "Run test for:\n",
    "\n",
    "s = Square('square', 5)\n",
    "\n",
    "print(s.area())\n",
    "\n",
    "print(s.describe())\n",
    "\n",
    "Output:\n",
    "\n",
    "The area is:\n",
    "\n",
    "25\n",
    "\n",
    "This is a: square"
   ]
  },
  {
   "cell_type": "code",
   "execution_count": 8,
   "id": "1ea737dc-5797-4608-a21b-fb2a98c99784",
   "metadata": {},
   "outputs": [
    {
     "name": "stdout",
     "output_type": "stream",
     "text": [
      "The area is:\n",
      "25\n",
      "This is a: square\n"
     ]
    }
   ],
   "source": [
    "\n",
    "class Shape:\n",
    "    def __init__(self, name, length):\n",
    "        self.name = name\n",
    "        self.length = length\n",
    "\n",
    "    def area(self):\n",
    "        return 0\n",
    "\n",
    "class Square(Shape):\n",
    "    def __init__(self, name, length):\n",
    "        super().__init__(name, length)\n",
    "\n",
    "    def area(self):\n",
    "        return self.length ** 2\n",
    "\n",
    "    def describe(self):\n",
    "        return f\"This is a: {self.name}\"\n",
    "\n",
    "s = Square('square', 5)\n",
    "print(f\"The area is:\\n{s.area()}\")\n",
    "print(s.describe())\n"
   ]
  }
 ],
 "metadata": {
  "kernelspec": {
   "display_name": "Python 3 (ipykernel)",
   "language": "python",
   "name": "python3"
  },
  "language_info": {
   "codemirror_mode": {
    "name": "ipython",
    "version": 3
   },
   "file_extension": ".py",
   "mimetype": "text/x-python",
   "name": "python",
   "nbconvert_exporter": "python",
   "pygments_lexer": "ipython3",
   "version": "3.13.5"
  }
 },
 "nbformat": 4,
 "nbformat_minor": 5
}
